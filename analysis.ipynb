{
 "cells": [
  {
   "cell_type": "markdown",
   "metadata": {},
   "source": [
    "# Analisis de supervivencia "
   ]
  },
  {
   "cell_type": "markdown",
   "metadata": {},
   "source": [
    "Este cuaderno cuenta con un análisis rudimentario de la supervivencia de 5 años y está subdivido de la siguiente manera:\n",
    "\n",
    "1. Importación de las librerías necesarias para el análisis\n",
    "2. Inspección de la data\n",
    "3. Limpieza general de data (Valores nulos)\n",
    "3. Análisis Explorativo\n",
    "4. Histogramas de interés\n",
    "5. Análisis multivarial (correlacional)\n",
    "6. Pruebas estadísticas\n",
    "7. Discusiones\n",
    "\n",
    "The purpose of this notebook is to provide a thorough statistical analysis of the data obtained by Drs. Valeria and Ninsoka Alvarenga Arriaga. "
   ]
  },
  {
   "cell_type": "markdown",
   "metadata": {},
   "source": [
    "### 1. Importación de librerías pertinentes"
   ]
  },
  {
   "cell_type": "code",
   "execution_count": 1,
   "metadata": {},
   "outputs": [],
   "source": [
    "import pandas as pd\n",
    "import seaborn as sns\n",
    "import matplotlib.pyplot as plt"
   ]
  },
  {
   "cell_type": "code",
   "execution_count": 2,
   "metadata": {},
   "outputs": [],
   "source": [
    "# setting the path:\n",
    "path = r\"C:\\Repositories\\Survivor_Analysis\\data\\data.xlsx\"\n",
    "\n",
    "# reading the data:\n",
    "data = pd.read_excel(path, engine='openpyxl', sheet_name=\"MATRIZ\")"
   ]
  },
  {
   "cell_type": "code",
   "execution_count": 3,
   "metadata": {},
   "outputs": [
    {
     "data": {
      "text/html": [
       "<div>\n",
       "<style scoped>\n",
       "    .dataframe tbody tr th:only-of-type {\n",
       "        vertical-align: middle;\n",
       "    }\n",
       "\n",
       "    .dataframe tbody tr th {\n",
       "        vertical-align: top;\n",
       "    }\n",
       "\n",
       "    .dataframe thead th {\n",
       "        text-align: right;\n",
       "    }\n",
       "</style>\n",
       "<table border=\"1\" class=\"dataframe\">\n",
       "  <thead>\n",
       "    <tr style=\"text-align: right;\">\n",
       "      <th></th>\n",
       "      <th>Timestamp</th>\n",
       "      <th>Año del Caso</th>\n",
       "      <th>Escolaridad</th>\n",
       "      <th>Estado Civil</th>\n",
       "      <th>Edad</th>\n",
       "      <th>Departamento de procedencia</th>\n",
       "      <th>Factores de Riesgo</th>\n",
       "      <th>Tipo Histológico</th>\n",
       "      <th>Her2</th>\n",
       "      <th>Receptor Progesterona</th>\n",
       "      <th>...</th>\n",
       "      <th>Tumor Primario</th>\n",
       "      <th>Linfonodos</th>\n",
       "      <th>Metástasis</th>\n",
       "      <th>Sitio de Metástasis</th>\n",
       "      <th>Estapa del Cáncer al ingreso</th>\n",
       "      <th>Procedimiento Quirurgico</th>\n",
       "      <th>Radioterapia</th>\n",
       "      <th>Quimioterapia</th>\n",
       "      <th>Homonoterpia</th>\n",
       "      <th>Sobrevida a los 60 meses (5 años)</th>\n",
       "    </tr>\n",
       "  </thead>\n",
       "  <tbody>\n",
       "    <tr>\n",
       "      <th>0</th>\n",
       "      <td>2023-01-23 13:19:36.979</td>\n",
       "      <td>2012</td>\n",
       "      <td>Secundaia Completa</td>\n",
       "      <td>Soltera</td>\n",
       "      <td>igual o mayor de 66 años</td>\n",
       "      <td>Santa Bárbara</td>\n",
       "      <td>Nuliparidad, Mayor de 40</td>\n",
       "      <td>Carcinoma Ductal Invasor</td>\n",
       "      <td>Positivo</td>\n",
       "      <td>Negativo</td>\n",
       "      <td>...</td>\n",
       "      <td>4</td>\n",
       "      <td>1</td>\n",
       "      <td>0</td>\n",
       "      <td>NaN</td>\n",
       "      <td>IIIB</td>\n",
       "      <td>Mastectomia Total</td>\n",
       "      <td>Adyuvante</td>\n",
       "      <td>Si</td>\n",
       "      <td>No</td>\n",
       "      <td>Si</td>\n",
       "    </tr>\n",
       "    <tr>\n",
       "      <th>1</th>\n",
       "      <td>2023-01-23 15:24:10.753</td>\n",
       "      <td>2012</td>\n",
       "      <td>Secundaia Completa</td>\n",
       "      <td>Soltera</td>\n",
       "      <td>46-55 años</td>\n",
       "      <td>Francisco Morazán</td>\n",
       "      <td>Mayor de 40, Menarquia antes de los 12 años, ACOs</td>\n",
       "      <td>Carcinoma Ductal In situ</td>\n",
       "      <td>Negativo</td>\n",
       "      <td>Positivo</td>\n",
       "      <td>...</td>\n",
       "      <td>Sin datos</td>\n",
       "      <td>Sin Datos</td>\n",
       "      <td>Sin datos</td>\n",
       "      <td>Hueso( húmero izquierdo e isquion derecho)</td>\n",
       "      <td>IV</td>\n",
       "      <td>Mastectomia Total</td>\n",
       "      <td>Adyuvante</td>\n",
       "      <td>Si</td>\n",
       "      <td>Si</td>\n",
       "      <td>Si</td>\n",
       "    </tr>\n",
       "    <tr>\n",
       "      <th>2</th>\n",
       "      <td>2023-01-26 11:15:50.251</td>\n",
       "      <td>2012</td>\n",
       "      <td>NaN</td>\n",
       "      <td>Casada</td>\n",
       "      <td>56-65 años</td>\n",
       "      <td>Valle</td>\n",
       "      <td>Mayor de 40</td>\n",
       "      <td>Carcinoma Ductal Invasor</td>\n",
       "      <td>Negativo</td>\n",
       "      <td>Negativo</td>\n",
       "      <td>...</td>\n",
       "      <td>3</td>\n",
       "      <td>1</td>\n",
       "      <td>0</td>\n",
       "      <td>NaN</td>\n",
       "      <td>IIIA</td>\n",
       "      <td>Mastectomia Total</td>\n",
       "      <td>No</td>\n",
       "      <td>Si</td>\n",
       "      <td>No</td>\n",
       "      <td>Si</td>\n",
       "    </tr>\n",
       "    <tr>\n",
       "      <th>3</th>\n",
       "      <td>2023-01-26 13:42:23.474</td>\n",
       "      <td>2012</td>\n",
       "      <td>NaN</td>\n",
       "      <td>Soltera</td>\n",
       "      <td>igual o mayor de 66 años</td>\n",
       "      <td>Choluteca</td>\n",
       "      <td>Mayor de 40</td>\n",
       "      <td>Carcinoma Ductal Invasor</td>\n",
       "      <td>Positivo</td>\n",
       "      <td>Negativo</td>\n",
       "      <td>...</td>\n",
       "      <td>Sin datos</td>\n",
       "      <td>Sin Datos</td>\n",
       "      <td>Sin datos</td>\n",
       "      <td>NaN</td>\n",
       "      <td>IV</td>\n",
       "      <td>Mastectomia Total</td>\n",
       "      <td>No</td>\n",
       "      <td>Si</td>\n",
       "      <td>No</td>\n",
       "      <td>Si</td>\n",
       "    </tr>\n",
       "    <tr>\n",
       "      <th>4</th>\n",
       "      <td>2023-01-26 13:46:48.577</td>\n",
       "      <td>2012</td>\n",
       "      <td>Univeridad</td>\n",
       "      <td>Soltera</td>\n",
       "      <td>36-45 años</td>\n",
       "      <td>Comayagua</td>\n",
       "      <td>Mayor de 40, DIU</td>\n",
       "      <td>Carcinoma Ductal Invasor</td>\n",
       "      <td>Negativo</td>\n",
       "      <td>Positivo</td>\n",
       "      <td>...</td>\n",
       "      <td>Sin datos</td>\n",
       "      <td>Sin Datos</td>\n",
       "      <td>Sin datos</td>\n",
       "      <td>NaN</td>\n",
       "      <td>IV</td>\n",
       "      <td>Mastectomia Total</td>\n",
       "      <td>Adyuvante</td>\n",
       "      <td>No</td>\n",
       "      <td>No</td>\n",
       "      <td>Si</td>\n",
       "    </tr>\n",
       "    <tr>\n",
       "      <th>5</th>\n",
       "      <td>2023-01-26 13:47:48.991</td>\n",
       "      <td>2012</td>\n",
       "      <td>Secundaia Completa</td>\n",
       "      <td>Casada</td>\n",
       "      <td>36-45 años</td>\n",
       "      <td>Francisco Morazán</td>\n",
       "      <td>Antecedentes Familiares, Mayor de 40, ACOs</td>\n",
       "      <td>Carcinoma Ductal Invasor</td>\n",
       "      <td>Negativo</td>\n",
       "      <td>Negativo</td>\n",
       "      <td>...</td>\n",
       "      <td>2</td>\n",
       "      <td>2</td>\n",
       "      <td>0</td>\n",
       "      <td>NaN</td>\n",
       "      <td>IIIA</td>\n",
       "      <td>Mastectomia parcial</td>\n",
       "      <td>Adyuvante</td>\n",
       "      <td>Si</td>\n",
       "      <td>No</td>\n",
       "      <td>Si</td>\n",
       "    </tr>\n",
       "    <tr>\n",
       "      <th>6</th>\n",
       "      <td>2023-01-26 14:06:35.569</td>\n",
       "      <td>2012</td>\n",
       "      <td>NaN</td>\n",
       "      <td>Soltera</td>\n",
       "      <td>igual o mayor de 66 años</td>\n",
       "      <td>Colón</td>\n",
       "      <td>Ninguno</td>\n",
       "      <td>Carcinoma Ductal Invasor</td>\n",
       "      <td>Negativo</td>\n",
       "      <td>Positivo</td>\n",
       "      <td>...</td>\n",
       "      <td>3</td>\n",
       "      <td>0</td>\n",
       "      <td>0</td>\n",
       "      <td>NaN</td>\n",
       "      <td>IIB</td>\n",
       "      <td>Mastectomia Total</td>\n",
       "      <td>No</td>\n",
       "      <td>Si</td>\n",
       "      <td>Si</td>\n",
       "      <td>Si</td>\n",
       "    </tr>\n",
       "    <tr>\n",
       "      <th>7</th>\n",
       "      <td>2023-01-31 11:18:21.990</td>\n",
       "      <td>2012</td>\n",
       "      <td>NaN</td>\n",
       "      <td>Unión Consensual</td>\n",
       "      <td>56-65 años</td>\n",
       "      <td>Francisco Morazán</td>\n",
       "      <td>Mayor de 40</td>\n",
       "      <td>Mixto</td>\n",
       "      <td>Positivo</td>\n",
       "      <td>Positivo</td>\n",
       "      <td>...</td>\n",
       "      <td>Sin datos</td>\n",
       "      <td>Sin Datos</td>\n",
       "      <td>Sin datos</td>\n",
       "      <td>NaN</td>\n",
       "      <td>IV</td>\n",
       "      <td>no</td>\n",
       "      <td>No</td>\n",
       "      <td>Si</td>\n",
       "      <td>No</td>\n",
       "      <td>No</td>\n",
       "    </tr>\n",
       "    <tr>\n",
       "      <th>8</th>\n",
       "      <td>2023-01-31 12:00:30.081</td>\n",
       "      <td>2012</td>\n",
       "      <td>NaN</td>\n",
       "      <td>Soltera</td>\n",
       "      <td>46-55 años</td>\n",
       "      <td>Lempira</td>\n",
       "      <td>Mayor de 40</td>\n",
       "      <td>Carcinoma Ductal Invasor</td>\n",
       "      <td>Positivo</td>\n",
       "      <td>Negativo</td>\n",
       "      <td>...</td>\n",
       "      <td>4</td>\n",
       "      <td>2</td>\n",
       "      <td>0</td>\n",
       "      <td>NaN</td>\n",
       "      <td>IIIB</td>\n",
       "      <td>Mastectomia Total</td>\n",
       "      <td>Adyuvante</td>\n",
       "      <td>Si</td>\n",
       "      <td>No</td>\n",
       "      <td>No</td>\n",
       "    </tr>\n",
       "    <tr>\n",
       "      <th>9</th>\n",
       "      <td>2023-01-31 12:06:09.012</td>\n",
       "      <td>2012</td>\n",
       "      <td>NaN</td>\n",
       "      <td>Soltera</td>\n",
       "      <td>36-45 años</td>\n",
       "      <td>Atlántida</td>\n",
       "      <td>Mayor de 40</td>\n",
       "      <td>Carcinoma Ductal Invasor</td>\n",
       "      <td>Negativo</td>\n",
       "      <td>Negativo</td>\n",
       "      <td>...</td>\n",
       "      <td>3</td>\n",
       "      <td>1</td>\n",
       "      <td>0</td>\n",
       "      <td>NaN</td>\n",
       "      <td>IIB</td>\n",
       "      <td>no</td>\n",
       "      <td>Adyuvante</td>\n",
       "      <td>Si</td>\n",
       "      <td>No</td>\n",
       "      <td>No</td>\n",
       "    </tr>\n",
       "  </tbody>\n",
       "</table>\n",
       "<p>10 rows × 21 columns</p>\n",
       "</div>"
      ],
      "text/plain": [
       "                Timestamp  Año del Caso         Escolaridad      Estado Civil  \\\n",
       "0 2023-01-23 13:19:36.979          2012  Secundaia Completa           Soltera   \n",
       "1 2023-01-23 15:24:10.753          2012  Secundaia Completa           Soltera   \n",
       "2 2023-01-26 11:15:50.251          2012                 NaN            Casada   \n",
       "3 2023-01-26 13:42:23.474          2012                 NaN           Soltera   \n",
       "4 2023-01-26 13:46:48.577          2012          Univeridad           Soltera   \n",
       "5 2023-01-26 13:47:48.991          2012  Secundaia Completa            Casada   \n",
       "6 2023-01-26 14:06:35.569          2012                 NaN           Soltera   \n",
       "7 2023-01-31 11:18:21.990          2012                 NaN  Unión Consensual   \n",
       "8 2023-01-31 12:00:30.081          2012                 NaN           Soltera   \n",
       "9 2023-01-31 12:06:09.012          2012                 NaN           Soltera   \n",
       "\n",
       "                       Edad Departamento de procedencia  \\\n",
       "0  igual o mayor de 66 años               Santa Bárbara   \n",
       "1                46-55 años           Francisco Morazán   \n",
       "2                56-65 años                       Valle   \n",
       "3  igual o mayor de 66 años                   Choluteca   \n",
       "4                36-45 años                   Comayagua   \n",
       "5                36-45 años           Francisco Morazán   \n",
       "6  igual o mayor de 66 años                       Colón   \n",
       "7                56-65 años           Francisco Morazán   \n",
       "8                46-55 años                     Lempira   \n",
       "9                36-45 años                   Atlántida   \n",
       "\n",
       "                                  Factores de Riesgo  \\\n",
       "0                           Nuliparidad, Mayor de 40   \n",
       "1  Mayor de 40, Menarquia antes de los 12 años, ACOs   \n",
       "2                                        Mayor de 40   \n",
       "3                                        Mayor de 40   \n",
       "4                                   Mayor de 40, DIU   \n",
       "5         Antecedentes Familiares, Mayor de 40, ACOs   \n",
       "6                                            Ninguno   \n",
       "7                                        Mayor de 40   \n",
       "8                                        Mayor de 40   \n",
       "9                                        Mayor de 40   \n",
       "\n",
       "           Tipo Histológico      Her2 Receptor Progesterona  ...  \\\n",
       "0  Carcinoma Ductal Invasor  Positivo              Negativo  ...   \n",
       "1  Carcinoma Ductal In situ  Negativo              Positivo  ...   \n",
       "2  Carcinoma Ductal Invasor  Negativo              Negativo  ...   \n",
       "3  Carcinoma Ductal Invasor  Positivo              Negativo  ...   \n",
       "4  Carcinoma Ductal Invasor  Negativo              Positivo  ...   \n",
       "5  Carcinoma Ductal Invasor  Negativo              Negativo  ...   \n",
       "6  Carcinoma Ductal Invasor  Negativo              Positivo  ...   \n",
       "7                     Mixto  Positivo              Positivo  ...   \n",
       "8  Carcinoma Ductal Invasor  Positivo              Negativo  ...   \n",
       "9  Carcinoma Ductal Invasor  Negativo              Negativo  ...   \n",
       "\n",
       "  Tumor Primario Linfonodos Metástasis  \\\n",
       "0              4          1          0   \n",
       "1      Sin datos  Sin Datos  Sin datos   \n",
       "2              3          1          0   \n",
       "3      Sin datos  Sin Datos  Sin datos   \n",
       "4      Sin datos  Sin Datos  Sin datos   \n",
       "5              2          2          0   \n",
       "6              3          0          0   \n",
       "7      Sin datos  Sin Datos  Sin datos   \n",
       "8              4          2          0   \n",
       "9              3          1          0   \n",
       "\n",
       "                           Sitio de Metástasis Estapa del Cáncer al ingreso  \\\n",
       "0                                          NaN                         IIIB   \n",
       "1  Hueso( húmero izquierdo e isquion derecho)                            IV   \n",
       "2                                          NaN                         IIIA   \n",
       "3                                          NaN                           IV   \n",
       "4                                          NaN                           IV   \n",
       "5                                          NaN                         IIIA   \n",
       "6                                          NaN                          IIB   \n",
       "7                                          NaN                           IV   \n",
       "8                                          NaN                         IIIB   \n",
       "9                                          NaN                          IIB   \n",
       "\n",
       "  Procedimiento Quirurgico Radioterapia Quimioterapia Homonoterpia  \\\n",
       "0        Mastectomia Total    Adyuvante            Si           No   \n",
       "1        Mastectomia Total    Adyuvante            Si           Si   \n",
       "2        Mastectomia Total           No            Si           No   \n",
       "3        Mastectomia Total           No            Si           No   \n",
       "4        Mastectomia Total    Adyuvante            No           No   \n",
       "5      Mastectomia parcial    Adyuvante            Si           No   \n",
       "6        Mastectomia Total           No            Si           Si   \n",
       "7                       no           No            Si           No   \n",
       "8        Mastectomia Total    Adyuvante            Si           No   \n",
       "9                       no    Adyuvante            Si           No   \n",
       "\n",
       "  Sobrevida a los 60 meses (5 años)  \n",
       "0                                Si  \n",
       "1                                Si  \n",
       "2                                Si  \n",
       "3                                Si  \n",
       "4                                Si  \n",
       "5                                Si  \n",
       "6                                Si  \n",
       "7                                No  \n",
       "8                                No  \n",
       "9                                No  \n",
       "\n",
       "[10 rows x 21 columns]"
      ]
     },
     "execution_count": 3,
     "metadata": {},
     "output_type": "execute_result"
    }
   ],
   "source": [
    "# Inspect the data:\n",
    "data.head(10)"
   ]
  },
  {
   "cell_type": "markdown",
   "metadata": {},
   "source": [
    "### 2. Inspección y limpieza de la data:"
   ]
  },
  {
   "cell_type": "code",
   "execution_count": 4,
   "metadata": {},
   "outputs": [
    {
     "data": {
      "text/plain": [
       "Index(['Timestamp', 'Año del Caso', 'Escolaridad', 'Estado Civil', 'Edad',\n",
       "       'Departamento de procedencia', 'Factores de Riesgo', 'Tipo Histológico',\n",
       "       'Her2', 'Receptor Progesterona', 'Estrogeno Recepetor',\n",
       "       'Tumor Primario', 'Linfonodos', 'Metástasis', 'Sitio de Metástasis',\n",
       "       'Estapa del Cáncer al ingreso', 'Procedimiento Quirurgico',\n",
       "       'Radioterapia', 'Quimioterapia', 'Homonoterpia',\n",
       "       'Sobrevida a los 60 meses (5 años)'],\n",
       "      dtype='object')"
      ]
     },
     "execution_count": 4,
     "metadata": {},
     "output_type": "execute_result"
    }
   ],
   "source": [
    "# Creating a copy of the data:\n",
    "df = data.copy()\n",
    "df.columns"
   ]
  },
  {
   "cell_type": "code",
   "execution_count": 5,
   "metadata": {},
   "outputs": [
    {
     "name": "stdout",
     "output_type": "stream",
     "text": [
      "<class 'pandas.core.frame.DataFrame'>\n",
      "RangeIndex: 662 entries, 0 to 661\n",
      "Data columns (total 21 columns):\n",
      " #   Column                             Non-Null Count  Dtype         \n",
      "---  ------                             --------------  -----         \n",
      " 0   Timestamp                          662 non-null    datetime64[ns]\n",
      " 1   Año del Caso                       662 non-null    int64         \n",
      " 2   Escolaridad                        390 non-null    object        \n",
      " 3   Estado Civil                       662 non-null    object        \n",
      " 4   Edad                               662 non-null    object        \n",
      " 5   Departamento de procedencia        662 non-null    object        \n",
      " 6   Factores de Riesgo                 662 non-null    object        \n",
      " 7   Tipo Histológico                   662 non-null    object        \n",
      " 8   Her2                               662 non-null    object        \n",
      " 9   Receptor Progesterona              662 non-null    object        \n",
      " 10  Estrogeno Recepetor                662 non-null    object        \n",
      " 11  Tumor Primario                     662 non-null    object        \n",
      " 12  Linfonodos                         587 non-null    object        \n",
      " 13  Metástasis                         662 non-null    object        \n",
      " 14  Sitio de Metástasis                69 non-null     object        \n",
      " 15  Estapa del Cáncer al ingreso       662 non-null    object        \n",
      " 16  Procedimiento Quirurgico           658 non-null    object        \n",
      " 17  Radioterapia                       662 non-null    object        \n",
      " 18  Quimioterapia                      662 non-null    object        \n",
      " 19  Homonoterpia                       661 non-null    object        \n",
      " 20  Sobrevida a los 60 meses (5 años)  662 non-null    object        \n",
      "dtypes: datetime64[ns](1), int64(1), object(19)\n",
      "memory usage: 108.7+ KB\n"
     ]
    }
   ],
   "source": [
    "# Handling Spanish Null:\n",
    "df.replace(\"Sin Datos\", pd.NA, inplace=True)\n",
    "# Inspecting the data after the nulls have been standardized:\n",
    "df.info()"
   ]
  },
  {
   "cell_type": "markdown",
   "metadata": {},
   "source": [
    "Upon first inspection, there are 662 entries, of which the majority are text-based. We'll have to inspect all the fields to ensure that there are no typos or other potential sources of error such as leading/trailing whitespaces that could affect the exploratory data analysis down the line."
   ]
  },
  {
   "cell_type": "code",
   "execution_count": 6,
   "metadata": {},
   "outputs": [
    {
     "data": {
      "text/plain": [
       "Timestamp                              0\n",
       "Año del Caso                           0\n",
       "Escolaridad                          272\n",
       "Estado Civil                           0\n",
       "Edad                                   0\n",
       "Departamento de procedencia            0\n",
       "Factores de Riesgo                     0\n",
       "Tipo Histológico                       0\n",
       "Her2                                   0\n",
       "Receptor Progesterona                  0\n",
       "Estrogeno Recepetor                    0\n",
       "Tumor Primario                         0\n",
       "Linfonodos                            75\n",
       "Metástasis                             0\n",
       "Sitio de Metástasis                  593\n",
       "Estapa del Cáncer al ingreso           0\n",
       "Procedimiento Quirurgico               4\n",
       "Radioterapia                           0\n",
       "Quimioterapia                          0\n",
       "Homonoterpia                           1\n",
       "Sobrevida a los 60 meses (5 años)      0\n",
       "dtype: int64"
      ]
     },
     "execution_count": 6,
     "metadata": {},
     "output_type": "execute_result"
    }
   ],
   "source": [
    "df.isnull().sum()"
   ]
  },
  {
   "cell_type": "code",
   "execution_count": 7,
   "metadata": {},
   "outputs": [
    {
     "data": {
      "text/plain": [
       "Secundaia Completa       184\n",
       "Univeridad               157\n",
       "Primaria incompleta       11\n",
       "Universidad completa      11\n",
       "Secundaria Incompleta     10\n",
       "Secundaria completa       10\n",
       "Analfabeta                 2\n",
       "Univeridad IncomplEta      2\n",
       "Secundaria incompleta      2\n",
       "Primaria Incompleta        1\n",
       "Name: Escolaridad, dtype: int64"
      ]
     },
     "execution_count": 7,
     "metadata": {},
     "output_type": "execute_result"
    }
   ],
   "source": [
    "df.Escolaridad.value_counts()"
   ]
  },
  {
   "cell_type": "markdown",
   "metadata": {},
   "source": [
    "There are some corrections needed to be made as evidenced in the data above. "
   ]
  },
  {
   "cell_type": "code",
   "execution_count": 8,
   "metadata": {},
   "outputs": [
    {
     "data": {
      "text/plain": [
       "Secundaria Completa       194\n",
       "Universidad               168\n",
       "Secundaria Incompleta      12\n",
       "Primaria Incompleta        12\n",
       "Analfabeta                  2\n",
       "Universidad Incompleta      2\n",
       "Name: Escolaridad, dtype: int64"
      ]
     },
     "execution_count": 8,
     "metadata": {},
     "output_type": "execute_result"
    }
   ],
   "source": [
    "# defining values to replace:\n",
    "escolaridad_replacement_dict = {\n",
    "    \"Secundaia Completa\": \"Secundaria Completa\",\n",
    "    \"Primaria incompleta\": \"Primaria Incompleta\",\n",
    "    \"Secundaria completa\": \"Secundaria Completa\",\n",
    "    \"Secundaria incompleta\":\"Secundaria Incompleta\",\n",
    "    \"Univeridad IncomplEta\": \"Universidad Incompleta\",\n",
    "    \"Univeridad\": \"Universidad\",\n",
    "    \"Universidad completa\":\"Universidad\"\n",
    "}\n",
    "\n",
    "df['Escolaridad'].replace(escolaridad_replacement_dict, inplace=True)\n",
    "\n",
    "#sanity check:\n",
    "df.Escolaridad.value_counts()"
   ]
  },
  {
   "cell_type": "markdown",
   "metadata": {},
   "source": [
    "#### Estado Civil:"
   ]
  },
  {
   "cell_type": "code",
   "execution_count": 9,
   "metadata": {},
   "outputs": [
    {
     "data": {
      "text/plain": [
       "Soltera             281\n",
       "Casada              281\n",
       "Unión Consensual     62\n",
       "Viuda                34\n",
       "Unión consensual      3\n",
       "Divorciada            1\n",
       "Name: Estado Civil, dtype: int64"
      ]
     },
     "execution_count": 9,
     "metadata": {},
     "output_type": "execute_result"
    }
   ],
   "source": [
    "df[\"Estado Civil\"].value_counts()"
   ]
  },
  {
   "cell_type": "code",
   "execution_count": 10,
   "metadata": {},
   "outputs": [
    {
     "data": {
      "text/plain": [
       "Soltera             281\n",
       "Casada              281\n",
       "Unión Consensual     65\n",
       "Viuda                34\n",
       "Divorciada            1\n",
       "Name: Estado Civil, dtype: int64"
      ]
     },
     "execution_count": 10,
     "metadata": {},
     "output_type": "execute_result"
    }
   ],
   "source": [
    "df[\"Estado Civil\"].replace(\"Unión consensual\", \"Unión Consensual\", inplace=True)\n",
    "df[\"Estado Civil\"].value_counts()"
   ]
  },
  {
   "cell_type": "markdown",
   "metadata": {},
   "source": [
    "#### Edad"
   ]
  },
  {
   "cell_type": "code",
   "execution_count": 11,
   "metadata": {},
   "outputs": [
    {
     "data": {
      "text/plain": [
       "46-55 años                  198\n",
       "56-65 años                  173\n",
       "36-45 años                  124\n",
       "igual o mayor de 66 años    115\n",
       "26-35 años                   49\n",
       "19-25 años                    3\n",
       "Name: Edad, dtype: int64"
      ]
     },
     "execution_count": 11,
     "metadata": {},
     "output_type": "execute_result"
    }
   ],
   "source": [
    "df['Edad'].value_counts()"
   ]
  },
  {
   "cell_type": "markdown",
   "metadata": {},
   "source": [
    "If we do proceed with modelling, then we'll have to OHE this for it to have any meaning? That or supplant the categories for an integer/float."
   ]
  },
  {
   "cell_type": "markdown",
   "metadata": {},
   "source": [
    "#### Departamentos"
   ]
  },
  {
   "cell_type": "code",
   "execution_count": 12,
   "metadata": {},
   "outputs": [
    {
     "data": {
      "text/plain": [
       "Francisco Morazán    366\n",
       "Comayagua             58\n",
       "Choluteca             50\n",
       "Olancho               45\n",
       "El Paraíso            33\n",
       "Valle                 24\n",
       "Cortés                13\n",
       "Santa Bárbara         12\n",
       "Atlántida             12\n",
       "Yoro                  11\n",
       "Copán                  9\n",
       "Lempira                7\n",
       "La Paz                 7\n",
       "Colón                  5\n",
       "Ocotepeque             3\n",
       "Islas de la Bahía      3\n",
       "Intibucá               3\n",
       "Gracias a Dios         1\n",
       "Name: Departamento de procedencia, dtype: int64"
      ]
     },
     "execution_count": 12,
     "metadata": {},
     "output_type": "execute_result"
    }
   ],
   "source": [
    "df[\"Departamento de procedencia\"].value_counts()"
   ]
  },
  {
   "cell_type": "markdown",
   "metadata": {},
   "source": [
    "All looks good for this one."
   ]
  },
  {
   "cell_type": "markdown",
   "metadata": {},
   "source": [
    "#### Factores de Riesgo:"
   ]
  },
  {
   "cell_type": "code",
   "execution_count": 13,
   "metadata": {},
   "outputs": [
    {
     "data": {
      "text/plain": [
       "Mayor de 40                                          154\n",
       "Mayor de 40, ACOs                                     79\n",
       "Antecedentes Familiares, Mayor de 40                  27\n",
       "Mayor de 40, Menarquia antes de los 12 años           25\n",
       "Nuliparidad, Mayor de 40                              21\n",
       "                                                    ... \n",
       "Nuliparidad, ACOs                                      1\n",
       "Primer gesta despues de los 30, Mayor de 40, ACOs      1\n",
       "ACOs, DIU                                              1\n",
       "Mayor de 40, ACOs, DIU                                 1\n",
       "Primera gesta después de los 30, Mayor de 40           1\n",
       "Name: Factores de Riesgo, Length: 122, dtype: int64"
      ]
     },
     "execution_count": 13,
     "metadata": {},
     "output_type": "execute_result"
    }
   ],
   "source": [
    "df[\"Factores de Riesgo\"].value_counts()"
   ]
  },
  {
   "cell_type": "markdown",
   "metadata": {},
   "source": [
    "Estos son valores separados por comas, tendremos que crear n columnas para cada factor de riesgo ya que no tienen un peso específico.\n",
    "También podrían ser codificados/vectorizados y guardados en un arreglo de np -- lo revisaremos más adelante.\n"
   ]
  },
  {
   "cell_type": "code",
   "execution_count": 14,
   "metadata": {},
   "outputs": [
    {
     "data": {
      "text/plain": [
       "2    273\n",
       "1    191\n",
       "3    151\n",
       "4     35\n",
       "5      2\n",
       "Name: Número de FR, dtype: int64"
      ]
     },
     "execution_count": 14,
     "metadata": {},
     "output_type": "execute_result"
    }
   ],
   "source": [
    "# Dealing with Spanish \"Nulls\":\n",
    "df[\"Factores de Riesgo\"].replace(\"Ninguno\", pd.NA, inplace=True)\n",
    "\n",
    "# Counting the number of risk factors each patient has (This will be moved to the Feature Engineering section later).\n",
    "df[\"Número de FR\"] = df[\"Factores de Riesgo\"].str.count(\", \") + 1 \n",
    "df[\"Número de FR\"].value_counts()"
   ]
  },
  {
   "cell_type": "code",
   "execution_count": 15,
   "metadata": {},
   "outputs": [
    {
     "data": {
      "text/plain": [
       "10"
      ]
     },
     "execution_count": 15,
     "metadata": {},
     "output_type": "execute_result"
    }
   ],
   "source": [
    "df[\"Factores de Riesgo\"].isnull().sum() # Sanity check"
   ]
  },
  {
   "cell_type": "markdown",
   "metadata": {},
   "source": [
    "#### Tipo Histológico:"
   ]
  },
  {
   "cell_type": "code",
   "execution_count": 16,
   "metadata": {},
   "outputs": [
    {
     "data": {
      "text/plain": [
       "Carcinoma Ductal Invasor                                                                475\n",
       "Carcinoma Lobulillar Incasor                                                             63\n",
       "Mixto                                                                                    58\n",
       "Carcinoma Ductal In situ                                                                 14\n",
       "Medular                                                                                   7\n",
       "Papilar                                                                                   6\n",
       "Carcinoma Lobulillar Invasor                                                              5\n",
       "Carcinoma Lobulillar In situ                                                              4\n",
       "Coloide                                                                                   2\n",
       "Carcinoma apocrino                                                                        2\n",
       "Metaplasico: escamoso, papilar, mucinoso                                                  1\n",
       "Carcinoma coloide                                                                         1\n",
       "Metaplasico                                                                               1\n",
       "Carcinoma Mucinoso                                                                        1\n",
       "Carcinoma Coloide                                                                         1\n",
       "Carcinoma invasor pobremente diferenciado                                                 1\n",
       "Mucinoso                                                                                  1\n",
       "Carcinoma pleomorfo con diferenciación papilar, tubular, micropapilar y sarcomatoide      1\n",
       "Tumor Filoides maligno                                                                    1\n",
       "Carcinoma Mucinoso Residual                                                               1\n",
       "Carcinoma Metaplásico Invasor                                                             1\n",
       "Tubular                                                                                   1\n",
       "Mucinoso                                                                                  1\n",
       "Mucinoso(coloide)                                                                         1\n",
       "Metaplasico                                                                               1\n",
       "DIU                                                                                       1\n",
       "Micropapilar in situ                                                                      1\n",
       "Carcinoma Canalicular Infiltrante                                                         1\n",
       "Carcinoma mucinoso                                                                        1\n",
       "Carcinoma adenoideo quístico                                                              1\n",
       "Carcinoma histiocitoide pleomorfico invasivo                                              1\n",
       "Carcinoma metaplasico con necrosis                                                        1\n",
       "Escamoso                                                                                  1\n",
       "Metaplásico Fusocelular Escamoso                                                          1\n",
       "Carcinoma epidermoide moderadamente diferenciado invasor                                  1\n",
       "Comedónico                                                                                1\n",
       "Name: Tipo Histológico, dtype: int64"
      ]
     },
     "execution_count": 16,
     "metadata": {},
     "output_type": "execute_result"
    }
   ],
   "source": [
    "df[\"Tipo Histológico\"].value_counts()"
   ]
  },
  {
   "cell_type": "code",
   "execution_count": 17,
   "metadata": {},
   "outputs": [],
   "source": [
    "# There is an additional one that is giving issue: Metaplasico may have a trailing white space.\n",
    "histological_replacement = {\n",
    "    \"Carcinoma Lobulillar Incasor\":\"Carcinoma Lobulillar Invasor\",\n",
    "    \"Carcinoma coloide\":\"Carcinoma Coloide\",\n",
    "}\n",
    "\n",
    "# Dealing with leading and trailing whitespaces:\n",
    "df[\"Tipo Histológico\"] = df[\"Tipo Histológico\"].str.strip()\n",
    "\n",
    "# Applying the replacements for the typos:\n",
    "df[\"Tipo Histológico\"].replace(histological_replacement, inplace=True)\n"
   ]
  },
  {
   "cell_type": "markdown",
   "metadata": {},
   "source": [
    "#### Her2"
   ]
  },
  {
   "cell_type": "code",
   "execution_count": 18,
   "metadata": {},
   "outputs": [
    {
     "data": {
      "text/plain": [
       "Negativo    492\n",
       "Positivo    170\n",
       "Name: Her2, dtype: int64"
      ]
     },
     "execution_count": 18,
     "metadata": {},
     "output_type": "execute_result"
    }
   ],
   "source": [
    "df[\"Her2\"].value_counts()"
   ]
  },
  {
   "cell_type": "markdown",
   "metadata": {},
   "source": [
    "#### Receptor Progesterona"
   ]
  },
  {
   "cell_type": "code",
   "execution_count": 19,
   "metadata": {},
   "outputs": [
    {
     "data": {
      "text/plain": [
       "Negativo     345\n",
       "Positivo     311\n",
       "Sin datos      6\n",
       "Name: Receptor Progesterona, dtype: int64"
      ]
     },
     "execution_count": 19,
     "metadata": {},
     "output_type": "execute_result"
    }
   ],
   "source": [
    "df[\"Receptor Progesterona\"].value_counts()"
   ]
  },
  {
   "cell_type": "code",
   "execution_count": 20,
   "metadata": {},
   "outputs": [],
   "source": [
    "# Setting \"Sin datos\" as Null:\n",
    "df[\"Receptor Progesterona\"].replace(\"Sin datos\", pd.NA, inplace=True)"
   ]
  },
  {
   "cell_type": "markdown",
   "metadata": {},
   "source": [
    "#### Estrogeno Receptor"
   ]
  },
  {
   "cell_type": "code",
   "execution_count": 21,
   "metadata": {},
   "outputs": [
    {
     "data": {
      "text/plain": [
       "Negativo     279\n",
       "Luminal A    246\n",
       "Luminal B    137\n",
       "Name: Estrogeno Recepetor, dtype: int64"
      ]
     },
     "execution_count": 21,
     "metadata": {},
     "output_type": "execute_result"
    }
   ],
   "source": [
    "df[\"Estrogeno Recepetor\"].value_counts()"
   ]
  },
  {
   "cell_type": "markdown",
   "metadata": {},
   "source": [
    "Dado el número de categorías, este podría ser otra opción para el One-Hot Encoding."
   ]
  },
  {
   "cell_type": "markdown",
   "metadata": {},
   "source": [
    "#### Tumor Primario"
   ]
  },
  {
   "cell_type": "code",
   "execution_count": 22,
   "metadata": {},
   "outputs": [
    {
     "data": {
      "text/plain": [
       "2            310\n",
       "1            159\n",
       "Sin datos     81\n",
       "3             78\n",
       "4             33\n",
       "0              1\n",
       "Name: Tumor Primario, dtype: int64"
      ]
     },
     "execution_count": 22,
     "metadata": {},
     "output_type": "execute_result"
    }
   ],
   "source": [
    "df[\"Tumor Primario\"].value_counts()"
   ]
  },
  {
   "cell_type": "code",
   "execution_count": 23,
   "metadata": {},
   "outputs": [
    {
     "data": {
      "text/plain": [
       "2       310\n",
       "1       159\n",
       "<NA>     81\n",
       "3        78\n",
       "4        33\n",
       "0         1\n",
       "Name: Tumor Primario, dtype: int64"
      ]
     },
     "execution_count": 23,
     "metadata": {},
     "output_type": "execute_result"
    }
   ],
   "source": [
    "# dealing with the null:\n",
    "df[\"Tumor Primario\"].replace(\"Sin datos\", pd.NA, inplace=True)\n",
    "df[\"Tumor Primario\"].value_counts(dropna=False)"
   ]
  },
  {
   "cell_type": "markdown",
   "metadata": {},
   "source": [
    "#### Linfonodos"
   ]
  },
  {
   "cell_type": "code",
   "execution_count": 24,
   "metadata": {},
   "outputs": [
    {
     "data": {
      "text/plain": [
       "0            548\n",
       "1             77\n",
       "Sin datos     37\n",
       "Name: Metástasis, dtype: int64"
      ]
     },
     "execution_count": 24,
     "metadata": {},
     "output_type": "execute_result"
    }
   ],
   "source": [
    "df[\"Metástasis\"].value_counts()"
   ]
  },
  {
   "cell_type": "code",
   "execution_count": 25,
   "metadata": {},
   "outputs": [],
   "source": [
    "df[\"Metástasis\"].replace(\"Sin datos\", pd.NA, inplace=True)"
   ]
  },
  {
   "cell_type": "code",
   "execution_count": 26,
   "metadata": {},
   "outputs": [
    {
     "data": {
      "text/plain": [
       "0       548\n",
       "1        77\n",
       "<NA>     37\n",
       "Name: Metástasis, dtype: int64"
      ]
     },
     "execution_count": 26,
     "metadata": {},
     "output_type": "execute_result"
    }
   ],
   "source": [
    "df[\"Metástasis\"].value_counts(dropna=False)"
   ]
  },
  {
   "cell_type": "markdown",
   "metadata": {},
   "source": [
    "#### Sitio de Metástasis"
   ]
  },
  {
   "cell_type": "markdown",
   "metadata": {},
   "source": [
    "Hay una cantidad considerable de valores nulos en esta columna, hay que considerar no utilizarla por falta de información a la hora de hacer una regresión. "
   ]
  },
  {
   "cell_type": "code",
   "execution_count": 27,
   "metadata": {},
   "outputs": [
    {
     "name": "stdout",
     "output_type": "stream",
     "text": [
      "69\n"
     ]
    },
    {
     "data": {
      "text/plain": [
       "NaN                                                      593\n",
       "Cerebro                                                    7\n",
       "Pulmón                                                     5\n",
       "Óseo                                                       4\n",
       "Hígado                                                     3\n",
       "Pulmón                                                     3\n",
       "Adenopatías axilares                                       2\n",
       "Ósea                                                       2\n",
       "Cerebral                                                   2\n",
       "Piel                                                       2\n",
       "Óseo                                                       2\n",
       "Óseas,  pulmonar,  mediastino                              1\n",
       "Columna dorsolumbar                                        1\n",
       "Oseo                                                       1\n",
       "Cerebral y a columna                                       1\n",
       "Columna                                                    1\n",
       "Región supraclavicular                                     1\n",
       "Adenomegalias supraclaviculares, piel                      1\n",
       "Mediastino                                                 1\n",
       "Pulmón, SNC                                                1\n",
       "Columna toracolumbar, fémur,  iliaco bilateral             1\n",
       "Pulmón,                                                    1\n",
       "L4 y L5, sacro e ílion                                     1\n",
       "Hueso, cerebro                                             1\n",
       "Rodilla der, cadera izq                                    1\n",
       "Columna lumbar, pelvis, rodilla,                           1\n",
       "Hígado, Óseo L5-S1, fémur izquierdo y trocánter mayor      1\n",
       "Cráneo,  columna dorsolumbar, pelvis                       1\n",
       "Columna dorsal, lumbar,  pelvis, fémur derecho             1\n",
       "Columna dorsal, sacro, esternón                            1\n",
       "Columna lumbosacra                                         1\n",
       "Lóbulo hepático y L1                                       1\n",
       "Cerebro, Pulmón                                            1\n",
       "Columna T11 y 12                                           1\n",
       "Columna, Craneo                                            1\n",
       "Cerebro                                                    1\n",
       "Columna cervical, toracica y lumbar                        1\n",
       "Cerebro, Hígado                                            1\n",
       "Columna dorsal                                             1\n",
       "Oseas                                                      1\n",
       "Columna                                                    1\n",
       "Pelvis izquierda                                           1\n",
       "Columna cervical, hueso parietal derecho                   1\n",
       "Columna lumbosacra y pelvis                                1\n",
       "Cerebro, pulmón, hígado                                    1\n",
       "Hueso( húmero izquierdo e isquion derecho)                 1\n",
       "Mama izquierda, contralateral                              1\n",
       "Adenopatías axilares                                       1\n",
       "Name: Sitio de Metástasis, dtype: int64"
      ]
     },
     "execution_count": 27,
     "metadata": {},
     "output_type": "execute_result"
    }
   ],
   "source": [
    "\n",
    "print(df[\"Sitio de Metástasis\"].value_counts().sum())\n",
    "df[\"Sitio de Metástasis\"].value_counts(dropna=False)"
   ]
  },
  {
   "cell_type": "code",
   "execution_count": 28,
   "metadata": {},
   "outputs": [
    {
     "data": {
      "text/plain": [
       "NaN                                                      593\n",
       "Pulmón                                                     8\n",
       "Cerebro                                                    8\n",
       "Óseo                                                       6\n",
       "Hígado                                                     3\n",
       "Adenopatías axilares                                       3\n",
       "Columna                                                    2\n",
       "Ósea                                                       2\n",
       "Cerebral                                                   2\n",
       "Piel                                                       2\n",
       "Cerebral y a columna                                       1\n",
       "Mediastino                                                 1\n",
       "Columna dorsolumbar                                        1\n",
       "Pulmón, SNC                                                1\n",
       "Pulmón,                                                    1\n",
       "Hígado, Óseo L5-S1, fémur izquierdo y trocánter mayor      1\n",
       "L4 y L5, sacro e ílion                                     1\n",
       "Rodilla der, cadera izq                                    1\n",
       "Columna lumbar, pelvis, rodilla,                           1\n",
       "Óseas,  pulmonar,  mediastino                              1\n",
       "Columna toracolumbar, fémur,  iliaco bilateral             1\n",
       "Hueso, cerebro                                             1\n",
       "Adenomegalias supraclaviculares, piel                      1\n",
       "Región supraclavicular                                     1\n",
       "Cráneo,  columna dorsolumbar, pelvis                       1\n",
       "Cerebro, pulmón, hígado                                    1\n",
       "Columna dorsal, sacro, esternón                            1\n",
       "Columna lumbosacra                                         1\n",
       "Lóbulo hepático y L1                                       1\n",
       "Cerebro, Pulmón                                            1\n",
       "Columna T11 y 12                                           1\n",
       "Columna, Craneo                                            1\n",
       "Columna cervical, toracica y lumbar                        1\n",
       "Cerebro, Hígado                                            1\n",
       "Columna dorsal                                             1\n",
       "Oseas                                                      1\n",
       "Pelvis izquierda                                           1\n",
       "Columna cervical, hueso parietal derecho                   1\n",
       "Columna lumbosacra y pelvis                                1\n",
       "Hueso( húmero izquierdo e isquion derecho)                 1\n",
       "Columna dorsal, lumbar,  pelvis, fémur derecho             1\n",
       "Mama izquierda, contralateral                              1\n",
       "Oseo                                                       1\n",
       "Name: Sitio de Metástasis, dtype: int64"
      ]
     },
     "execution_count": 28,
     "metadata": {},
     "output_type": "execute_result"
    }
   ],
   "source": [
    "df[\"Sitio de Metástasis\"] = df[\"Sitio de Metástasis\"].str.strip()\n",
    "met_replacement = {\n",
    "    \"Oseo\" : \"Óseo\",\n",
    "    \"Oseas\": \"Óseo\",\n",
    "    \"Hueso\": \"Óseo\",\n",
    "    \"Ósea\" : \"Óseo\",\n",
    "    \"Óseas\": \"Óseo\",\n",
    "    \"Pulmones\": \"Pulmón\",\n",
    "    \n",
    "}\n",
    "df[\"Sitio de Metástasis\"].value_counts(dropna=False)"
   ]
  },
  {
   "cell_type": "code",
   "execution_count": 29,
   "metadata": {},
   "outputs": [],
   "source": [
    "# An idea to split the metastasis into multiple columns:\n",
    "# max_elements = df[\"Sitio de Metástasis\"].str.count(\",\").max() + 1\n",
    "# print(max_elements) # This returns 5, so we will split the metastasis into 5 columns.\n",
    "# df[[\"Segundo Sitio de Metástasis\", \"Tercer Sitio de Metastasis\", \"Cuarto Sitio de Metastasis\", \"Quinto Sitio de Metastasis\"]] = df[\"Sitio de Metástasis\"].str.split(\",\", expand=True)\n",
    "\n",
    "# Inspecting the dataframe after the split:\n",
    "# df[[\"Sitio de Metástasis\",\"Segundo Sitio de Metástasis\", \"Tercer Sitio de Metastasis\", \"Cuarto Sitio de Metastasis\", \"Quinto Sitio de Metastasis\"]]"
   ]
  },
  {
   "cell_type": "code",
   "execution_count": 30,
   "metadata": {},
   "outputs": [
    {
     "data": {
      "text/plain": [
       "1.0    46\n",
       "2.0    13\n",
       "3.0     8\n",
       "4.0     2\n",
       "Name: Número de sitios de Metástasis, dtype: int64"
      ]
     },
     "execution_count": 30,
     "metadata": {},
     "output_type": "execute_result"
    }
   ],
   "source": [
    "# Same as with the Risk Factors: This will also be moved to the feature engineering section.\n",
    "df[\"Número de sitios de Metástasis\"] = df[\"Sitio de Metástasis\"].str.count(\", | y \") + 1\n",
    "df[\"Número de sitios de Metástasis\"].value_counts()"
   ]
  },
  {
   "cell_type": "markdown",
   "metadata": {},
   "source": [
    "Me parece que hay una discrepancia entre los sitios de metástasis, la variable binaria de si hay metástasis o no: `df['Metastasis]`, y los valores nulos:"
   ]
  },
  {
   "cell_type": "code",
   "execution_count": 31,
   "metadata": {},
   "outputs": [
    {
     "name": "stdout",
     "output_type": "stream",
     "text": [
      "Number of patients with metastasis: 77\n",
      "Number of patients with metastasis and no location: 593\n",
      "Number of patients with metastasis and location: 69\n"
     ]
    }
   ],
   "source": [
    "num_loc_met = df[\"Número de sitios de Metástasis\"].value_counts().sum() # 69\n",
    "num_loc_met_null = df[\"Número de sitios de Metástasis\"].isnull().sum() # 593\n",
    "num_met_pos = df[df[\"Metástasis\"] == 1].shape[0] # 77\n",
    "\n",
    "print(f\"Number of patients with metastasis: {num_met_pos}\")\n",
    "print(f\"Number of patients with metastasis and no location: {num_loc_met_null}\")\n",
    "print(f\"Number of patients with metastasis and location: {num_loc_met}\")"
   ]
  },
  {
   "cell_type": "markdown",
   "metadata": {},
   "source": [
    "Esto implica que deberían de haber 8 valores nulos en los sitios de metástasis, pero en la base de datos hay unas 11. Al inspeccionar la base de datos, vemos otras discrepancias como la de abajo, donde el campo de Metástasis se marca como 0, pero en el sitio de Metástasis hay un valor \"Oseo\"."
   ]
  },
  {
   "cell_type": "code",
   "execution_count": 32,
   "metadata": {},
   "outputs": [
    {
     "data": {
      "text/html": [
       "<div>\n",
       "<style scoped>\n",
       "    .dataframe tbody tr th:only-of-type {\n",
       "        vertical-align: middle;\n",
       "    }\n",
       "\n",
       "    .dataframe tbody tr th {\n",
       "        vertical-align: top;\n",
       "    }\n",
       "\n",
       "    .dataframe thead th {\n",
       "        text-align: right;\n",
       "    }\n",
       "</style>\n",
       "<table border=\"1\" class=\"dataframe\">\n",
       "  <thead>\n",
       "    <tr style=\"text-align: right;\">\n",
       "      <th></th>\n",
       "      <th>Timestamp</th>\n",
       "      <th>Año del Caso</th>\n",
       "      <th>Escolaridad</th>\n",
       "      <th>Estado Civil</th>\n",
       "      <th>Edad</th>\n",
       "      <th>Departamento de procedencia</th>\n",
       "      <th>Factores de Riesgo</th>\n",
       "      <th>Tipo Histológico</th>\n",
       "      <th>Her2</th>\n",
       "      <th>Receptor Progesterona</th>\n",
       "      <th>...</th>\n",
       "      <th>Metástasis</th>\n",
       "      <th>Sitio de Metástasis</th>\n",
       "      <th>Estapa del Cáncer al ingreso</th>\n",
       "      <th>Procedimiento Quirurgico</th>\n",
       "      <th>Radioterapia</th>\n",
       "      <th>Quimioterapia</th>\n",
       "      <th>Homonoterpia</th>\n",
       "      <th>Sobrevida a los 60 meses (5 años)</th>\n",
       "      <th>Número de FR</th>\n",
       "      <th>Número de sitios de Metástasis</th>\n",
       "    </tr>\n",
       "  </thead>\n",
       "  <tbody>\n",
       "    <tr>\n",
       "      <th>190</th>\n",
       "      <td>2023-02-10 16:05:47.819</td>\n",
       "      <td>2017</td>\n",
       "      <td>Secundaria Completa</td>\n",
       "      <td>Casada</td>\n",
       "      <td>46-55 años</td>\n",
       "      <td>El Paraíso</td>\n",
       "      <td>Mayor de 40</td>\n",
       "      <td>Carcinoma Ductal Invasor</td>\n",
       "      <td>Negativo</td>\n",
       "      <td>Negativo</td>\n",
       "      <td>...</td>\n",
       "      <td>0</td>\n",
       "      <td>Óseo</td>\n",
       "      <td>IV</td>\n",
       "      <td>Mastectomia parcial</td>\n",
       "      <td>Paleativa</td>\n",
       "      <td>Si</td>\n",
       "      <td>No</td>\n",
       "      <td>No</td>\n",
       "      <td>1</td>\n",
       "      <td>1.0</td>\n",
       "    </tr>\n",
       "  </tbody>\n",
       "</table>\n",
       "<p>1 rows × 23 columns</p>\n",
       "</div>"
      ],
      "text/plain": [
       "                  Timestamp  Año del Caso          Escolaridad Estado Civil  \\\n",
       "190 2023-02-10 16:05:47.819          2017  Secundaria Completa       Casada   \n",
       "\n",
       "           Edad Departamento de procedencia Factores de Riesgo  \\\n",
       "190  46-55 años                  El Paraíso        Mayor de 40   \n",
       "\n",
       "             Tipo Histológico      Her2 Receptor Progesterona  ... Metástasis  \\\n",
       "190  Carcinoma Ductal Invasor  Negativo              Negativo  ...          0   \n",
       "\n",
       "    Sitio de Metástasis Estapa del Cáncer al ingreso Procedimiento Quirurgico  \\\n",
       "190                Óseo                           IV      Mastectomia parcial   \n",
       "\n",
       "    Radioterapia Quimioterapia Homonoterpia Sobrevida a los 60 meses (5 años)  \\\n",
       "190    Paleativa            Si           No                                No   \n",
       "\n",
       "    Número de FR Número de sitios de Metástasis  \n",
       "190            1                            1.0  \n",
       "\n",
       "[1 rows x 23 columns]"
      ]
     },
     "execution_count": 32,
     "metadata": {},
     "output_type": "execute_result"
    }
   ],
   "source": [
    "df.loc[(df[\"Metástasis\"] == 0) & (df[\"Sitio de Metástasis\"].notnull()) & (df[\"Sitio de Metástasis\"] != 0)]\n"
   ]
  },
  {
   "cell_type": "markdown",
   "metadata": {},
   "source": [
    "#### Estapa del Cáncer al ingreso"
   ]
  },
  {
   "cell_type": "code",
   "execution_count": 33,
   "metadata": {},
   "outputs": [
    {
     "data": {
      "text/plain": [
       "IIA     152\n",
       "IIIA    135\n",
       "IIB     112\n",
       "IA       86\n",
       "IV       80\n",
       "IIIC     55\n",
       "IIIB     37\n",
       "IB        5\n",
       "Name: Estapa del Cáncer al ingreso, dtype: int64"
      ]
     },
     "execution_count": 33,
     "metadata": {},
     "output_type": "execute_result"
    }
   ],
   "source": [
    "df[\"Estapa del Cáncer al ingreso\"].value_counts()"
   ]
  },
  {
   "cell_type": "markdown",
   "metadata": {},
   "source": [
    "Estas se podrían categorizar utilizando ya sea un float o Integer para poder ver la correlación con la taza de supervivencia, pero por los momentos quedará así."
   ]
  },
  {
   "cell_type": "markdown",
   "metadata": {},
   "source": [
    "#### Procedimiento Quirurgico"
   ]
  },
  {
   "cell_type": "code",
   "execution_count": 34,
   "metadata": {},
   "outputs": [
    {
     "data": {
      "text/plain": [
       "Mastectomia Total      323\n",
       "Mastectomia parcial    204\n",
       "no                      57\n",
       "Excissión Local         40\n",
       "Mastectomía total       23\n",
       "Mastectomía parcial      9\n",
       "Escisión local           2\n",
       "Name: Procedimiento Quirurgico, dtype: int64"
      ]
     },
     "execution_count": 34,
     "metadata": {},
     "output_type": "execute_result"
    }
   ],
   "source": [
    "df[\"Procedimiento Quirurgico\"].value_counts()"
   ]
  },
  {
   "cell_type": "code",
   "execution_count": 35,
   "metadata": {},
   "outputs": [
    {
     "data": {
      "text/plain": [
       "Mastectomía Total      346\n",
       "Mastectomía Parcial    213\n",
       "no                      57\n",
       "Excissión Local         42\n",
       "Name: Procedimiento Quirurgico, dtype: int64"
      ]
     },
     "execution_count": 35,
     "metadata": {},
     "output_type": "execute_result"
    }
   ],
   "source": [
    "surgery_replacement = {\n",
    "    \"Mastectomia Total\": \"Mastectomía Total\",\n",
    "    \"Mastectomía total\": \"Mastectomía Total\",\n",
    "    \"Mastectomía parcial\": \"Mastectomía Parcial\",\n",
    "    \"Mastectomia parcial\": \"Mastectomía Parcial\",\n",
    "    \"Escisión local\": \"Excissión Local\"\n",
    "}\n",
    "\n",
    "# Replacing typos:\n",
    "df[\"Procedimiento Quirurgico\"].replace(surgery_replacement, inplace=True)\n",
    "df[\"Procedimiento Quirurgico\"].value_counts()"
   ]
  },
  {
   "cell_type": "markdown",
   "metadata": {},
   "source": [
    "#### Radioterapia"
   ]
  },
  {
   "cell_type": "code",
   "execution_count": 36,
   "metadata": {},
   "outputs": [
    {
     "data": {
      "text/plain": [
       "Adyuvante       488\n",
       "No               98\n",
       "Paleativa        58\n",
       "NeoAdyuvante     16\n",
       "Concomitante      2\n",
       "Name: Radioterapia, dtype: int64"
      ]
     },
     "execution_count": 36,
     "metadata": {},
     "output_type": "execute_result"
    }
   ],
   "source": [
    "df[\"Radioterapia\"].value_counts()"
   ]
  },
  {
   "cell_type": "markdown",
   "metadata": {},
   "source": [
    "#### Quimioterapia"
   ]
  },
  {
   "cell_type": "code",
   "execution_count": 37,
   "metadata": {},
   "outputs": [
    {
     "data": {
      "text/plain": [
       "Si    502\n",
       "No    136\n",
       "Sí     24\n",
       "Name: Quimioterapia, dtype: int64"
      ]
     },
     "execution_count": 37,
     "metadata": {},
     "output_type": "execute_result"
    }
   ],
   "source": [
    "df[\"Quimioterapia\"].value_counts()"
   ]
  },
  {
   "cell_type": "code",
   "execution_count": 38,
   "metadata": {},
   "outputs": [
    {
     "data": {
      "text/plain": [
       "Sí    526\n",
       "No    136\n",
       "Name: Quimioterapia, dtype: int64"
      ]
     },
     "execution_count": 38,
     "metadata": {},
     "output_type": "execute_result"
    }
   ],
   "source": [
    "# Replacing typo:\n",
    "df[\"Quimioterapia\"].replace(\"Si\", \"Sí\", inplace=True)\n",
    "df[\"Quimioterapia\"].value_counts()"
   ]
  },
  {
   "cell_type": "markdown",
   "metadata": {},
   "source": [
    "#### Hormonoterapia"
   ]
  },
  {
   "cell_type": "code",
   "execution_count": 39,
   "metadata": {},
   "outputs": [
    {
     "data": {
      "text/plain": [
       "No    419\n",
       "Si    228\n",
       "Sí     14\n",
       "Name: Hormonoterapia, dtype: int64"
      ]
     },
     "execution_count": 39,
     "metadata": {},
     "output_type": "execute_result"
    }
   ],
   "source": [
    "# Correcting typo on column name:\n",
    "df.rename(columns={'Homonoterpia': 'Hormonoterapia'}, inplace=True)\n",
    "\n",
    "# value counts:\n",
    "df[\"Hormonoterapia\"].value_counts()\n"
   ]
  },
  {
   "cell_type": "code",
   "execution_count": 40,
   "metadata": {},
   "outputs": [
    {
     "data": {
      "text/plain": [
       "No    419\n",
       "Sí    242\n",
       "Name: Hormonoterapia, dtype: int64"
      ]
     },
     "execution_count": 40,
     "metadata": {},
     "output_type": "execute_result"
    }
   ],
   "source": [
    "df[\"Hormonoterapia\"].replace(\"Si\", \"Sí\", inplace=True)\n",
    "df[\"Hormonoterapia\"].value_counts()\n"
   ]
  },
  {
   "cell_type": "markdown",
   "metadata": {},
   "source": [
    "#### Sobrevida a los 60 mesas (5 años)"
   ]
  },
  {
   "cell_type": "code",
   "execution_count": 41,
   "metadata": {},
   "outputs": [],
   "source": [
    "df.rename(columns={'Sobrevida a los 60 meses (5 años)': '5y_survival'}, inplace=True)\n"
   ]
  },
  {
   "cell_type": "code",
   "execution_count": 43,
   "metadata": {},
   "outputs": [
    {
     "data": {
      "text/plain": [
       "No aplica    417\n",
       "Sí           152\n",
       "No            93\n",
       "Name: 5y_survival, dtype: int64"
      ]
     },
     "execution_count": 43,
     "metadata": {},
     "output_type": "execute_result"
    }
   ],
   "source": [
    "df[\"5y_survival\"].replace(\"Si\", \"Sí\", inplace=True)\n",
    "df[\"5y_survival\"].value_counts()"
   ]
  },
  {
   "cell_type": "code",
   "execution_count": 49,
   "metadata": {},
   "outputs": [
    {
     "name": "stdout",
     "output_type": "stream",
     "text": [
      "Number of Null Values\n",
      "Timestamp                           0\n",
      "Año del Caso                        0\n",
      "Escolaridad                       272\n",
      "Estado Civil                        0\n",
      "Edad                                0\n",
      "Departamento de procedencia         0\n",
      "Factores de Riesgo                 10\n",
      "Tipo Histológico                    0\n",
      "Her2                                0\n",
      "Receptor Progesterona               6\n",
      "Estrogeno Recepetor                 0\n",
      "Tumor Primario                     81\n",
      "Linfonodos                         75\n",
      "Metástasis                         37\n",
      "Sitio de Metástasis               593\n",
      "Estapa del Cáncer al ingreso        0\n",
      "Procedimiento Quirurgico            4\n",
      "Radioterapia                        0\n",
      "Quimioterapia                       0\n",
      "Hormonoterapia                      1\n",
      "5y_survival                         0\n",
      "Número de FR                       10\n",
      "Número de sitios de Metástasis    593\n",
      "dtype: int64\n",
      "\n",
      "********************************************************************************\n",
      "<class 'pandas.core.frame.DataFrame'>\n",
      "RangeIndex: 662 entries, 0 to 661\n",
      "Data columns (total 23 columns):\n",
      " #   Column                          Non-Null Count  Dtype         \n",
      "---  ------                          --------------  -----         \n",
      " 0   Timestamp                       662 non-null    datetime64[ns]\n",
      " 1   Año del Caso                    662 non-null    int64         \n",
      " 2   Escolaridad                     390 non-null    object        \n",
      " 3   Estado Civil                    662 non-null    object        \n",
      " 4   Edad                            662 non-null    object        \n",
      " 5   Departamento de procedencia     662 non-null    object        \n",
      " 6   Factores de Riesgo              652 non-null    object        \n",
      " 7   Tipo Histológico                662 non-null    object        \n",
      " 8   Her2                            662 non-null    object        \n",
      " 9   Receptor Progesterona           656 non-null    object        \n",
      " 10  Estrogeno Recepetor             662 non-null    object        \n",
      " 11  Tumor Primario                  581 non-null    object        \n",
      " 12  Linfonodos                      587 non-null    object        \n",
      " 13  Metástasis                      625 non-null    object        \n",
      " 14  Sitio de Metástasis             69 non-null     object        \n",
      " 15  Estapa del Cáncer al ingreso    662 non-null    object        \n",
      " 16  Procedimiento Quirurgico        658 non-null    object        \n",
      " 17  Radioterapia                    662 non-null    object        \n",
      " 18  Quimioterapia                   662 non-null    object        \n",
      " 19  Hormonoterapia                  661 non-null    object        \n",
      " 20  5y_survival                     662 non-null    object        \n",
      " 21  Número de FR                    652 non-null    object        \n",
      " 22  Número de sitios de Metástasis  69 non-null     float64       \n",
      "dtypes: datetime64[ns](1), float64(1), int64(1), object(20)\n",
      "memory usage: 119.1+ KB\n"
     ]
    }
   ],
   "source": [
    "print(\"Number of Null Values\")\n",
    "print(df.isnull().sum())\n",
    "print(\"\")\n",
    "print(\"*\" * 80)\n",
    "df.info()"
   ]
  },
  {
   "cell_type": "code",
   "execution_count": null,
   "metadata": {},
   "outputs": [],
   "source": []
  }
 ],
 "metadata": {
  "kernelspec": {
   "display_name": ".venv",
   "language": "python",
   "name": "python3"
  },
  "language_info": {
   "codemirror_mode": {
    "name": "ipython",
    "version": 3
   },
   "file_extension": ".py",
   "mimetype": "text/x-python",
   "name": "python",
   "nbconvert_exporter": "python",
   "pygments_lexer": "ipython3",
   "version": "3.9.16"
  }
 },
 "nbformat": 4,
 "nbformat_minor": 2
}
